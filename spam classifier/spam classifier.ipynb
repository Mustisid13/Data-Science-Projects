{
 "cells": [
  {
   "cell_type": "code",
   "execution_count": 2,
   "metadata": {},
   "outputs": [],
   "source": [
    "import numpy as np\n",
    "import pandas as pd\n",
    "import os\n",
    "import string\n"
   ]
  },
  {
   "cell_type": "markdown",
   "metadata": {},
   "source": [
    "# Converting text file data to csv file"
   ]
  },
  {
   "cell_type": "code",
   "execution_count": 2,
   "metadata": {},
   "outputs": [
    {
     "data": {
      "text/plain": [
       "['ham', 'housing', 'spam']"
      ]
     },
     "execution_count": 2,
     "metadata": {},
     "output_type": "execute_result"
    }
   ],
   "source": [
    "os.listdir('dataset')"
   ]
  },
  {
   "cell_type": "code",
   "execution_count": 151,
   "metadata": {},
   "outputs": [
    {
     "name": "stdout",
     "output_type": "stream",
     "text": [
      "Files not read: 262\n"
     ]
    }
   ],
   "source": [
    "# converting data to a csv file\n",
    "labels = []\n",
    "emails = []\n",
    "not_read = 0\n",
    "for folder in ['ham','spam']:\n",
    "    for file in os.listdir(os.path.join('dataset',folder)):\n",
    "        f = open(os.path.join('dataset',folder,file),'r')\n",
    "        try:\n",
    "            emails.append(f.read())\n",
    "            labels.append(folder)\n",
    "        except:\n",
    "            not_read+=1\n",
    "print(f'Files not read: {not_read}')\n",
    "        \n",
    "        "
   ]
  },
  {
   "cell_type": "code",
   "execution_count": 15,
   "metadata": {},
   "outputs": [
    {
     "data": {
      "text/plain": [
       "(3686, 3686)"
      ]
     },
     "execution_count": 15,
     "metadata": {},
     "output_type": "execute_result"
    }
   ],
   "source": [
    "len(emails),len(labels)"
   ]
  },
  {
   "cell_type": "code",
   "execution_count": 23,
   "metadata": {},
   "outputs": [],
   "source": [
    "# saving data as .csv\n",
    "df_dict = {'emails':emails,'labels':labels}\n",
    "emails_df = pd.DataFrame(df_dict)\n",
    "emails_df.head()"
   ]
  },
  {
   "cell_type": "code",
   "execution_count": 34,
   "metadata": {},
   "outputs": [],
   "source": [
    "emails_df.to_csv('emails.csv',index=False)"
   ]
  },
  {
   "cell_type": "markdown",
   "metadata": {},
   "source": [
    "# Preprocessing data"
   ]
  },
  {
   "cell_type": "code",
   "execution_count": 3,
   "metadata": {},
   "outputs": [],
   "source": [
    "df = pd.read_csv('emails.csv') # laoding data"
   ]
  },
  {
   "cell_type": "code",
   "execution_count": 4,
   "metadata": {},
   "outputs": [],
   "source": [
    "# adding an attribute of email length\n",
    "email_length=[]\n",
    "for m in df.emails:\n",
    "    email_length.append(len(m))\n",
    "df['email_length'] = email_length"
   ]
  },
  {
   "cell_type": "markdown",
   "metadata": {},
   "source": [
    "**1: Ham <br>\n",
    "    0:Spam**"
   ]
  },
  {
   "cell_type": "code",
   "execution_count": 27,
   "metadata": {},
   "outputs": [],
   "source": [
    "df['labels'] = (df['labels'] == 'ham').astype(int) "
   ]
  },
  {
   "cell_type": "code",
   "execution_count": 28,
   "metadata": {},
   "outputs": [],
   "source": [
    "# splitting data\n",
    "from sklearn.model_selection import train_test_split\n",
    "X_train,X_test,y_train,y_test = train_test_split(df[['emails','email_length']],df['labels'],test_size=0.2)"
   ]
  },
  {
   "cell_type": "code",
   "execution_count": 109,
   "metadata": {},
   "outputs": [
    {
     "data": {
      "text/plain": [
       "<matplotlib.colorbar.Colorbar at 0x7f39296fb6a0>"
      ]
     },
     "execution_count": 109,
     "metadata": {},
     "output_type": "execute_result"
    },
    {
     "data": {
      "image/png": "[encoded data removed]",
      "text/plain": [
       "<Figure size 432x288 with 2 Axes>"
      ]
     },
     "metadata": {
      "needs_background": "light"
     },
     "output_type": "display_data"
    }
   ],
   "source": [
    "import matplotlib.pyplot as plt\n",
    "plt.scatter(list(range(len(df))),df['email_length'],c=df['labels'])\n",
    "plt.colorbar()"
   ]
  },
  {
   "cell_type": "code",
   "execution_count": 75,
   "metadata": {},
   "outputs": [],
   "source": [
    "from sklearn.base import TransformerMixin, BaseEstimator\n",
    "import string\n",
    "from nltk.stem.porter import PorterStemmer\n",
    "import re\n",
    "import enchant\n",
    "# Custom transformer that cleans emails, such as removing punctuations and email ids\n",
    "\n",
    "class email_preprocessor(TransformerMixin,BaseEstimator): # TranformerMixin helps in calling fit_transform directly\n",
    "    \n",
    "    def __init__(self,remove_numbers=True,remove_punctuations = True,remove_email_ids=True):\n",
    "        self.remove_numbers = remove_numbers # replace a number with string 'NUMBER' if true\n",
    "        self.remove_punctuations = remove_punctuations # removes all punctuations if true\n",
    "        self.remove_email_ids = remove_email_ids # removes all email ids if true\n",
    "        self.porter_stemmer  = PorterStemmer() # porter stemmer object\n",
    "        self.d = enchant.Dict(\"en_US\") # enchant checks if a word exists in english dictionary or not\n",
    "\n",
    "    def replace_numbers(self,x):\n",
    "        '''\n",
    "        Simply replaces digits with string 'NUMBER'\n",
    "        '''\n",
    "        res = []\n",
    "        for wrd in x.split():\n",
    "            if wrd.isdigit():\n",
    "                res.append('NUMBER')\n",
    "            else:\n",
    "                res.append(wrd)\n",
    "        \n",
    "        return ' '.join(res)\n",
    "    \n",
    "    def replace_puncs(self,x):\n",
    "        '''\n",
    "        removes punctuations from string and returns it\n",
    "        '''\n",
    "        return x.translate(str.maketrans('', '', string.punctuation))\n",
    "    \n",
    "    def rmv_emailIds(self,x):\n",
    "        '''\n",
    "        Removes string with @ and .com, i.e. email ids\n",
    "        '''\n",
    "        return ' '.join([' ' if \"@\" and '.com' in wrd else wrd for wrd in x.split()])\n",
    "    \n",
    "    def remove_noise(self,x):\n",
    "        '''\n",
    "        removing strings such as gjis9sf2j and string longer than 15 characters\n",
    "        '''\n",
    "        # this regex collects all words that do not contain number in them\n",
    "        noise = re.findall('([A-Za-z]+[\\d@]+[\\w@]*|[\\d@]+[A-Za-z]+[\\w@]*)', x)\n",
    "        \n",
    "        # remove words with length greater than 15\n",
    "        x_clean = ' '.join(wrd for wrd in x.split() if len(wrd) < 15)\n",
    "        return ' '.join(set(x_clean.split()) - set(noise))\n",
    "    \n",
    "    def fit(self,X,y=None):\n",
    "        return self # does nothing\n",
    "    def lowercase(self,x):\n",
    "        return x.lower()\n",
    "    \n",
    "    def transform(self,X,y=None):\n",
    "        '''\n",
    "        Transform emails and clean them\n",
    "        '''\n",
    "        temp= X.copy() # genrating a copy\n",
    "        result = {} # stores our final result\n",
    "        \n",
    "        # Firstly remove email ids\n",
    "        if self.remove_email_ids:\n",
    "            temp=temp.apply(self.rmv_emailIds)\n",
    "        \n",
    "        # Second, remove punctuations\n",
    "        if self.remove_punctuations:\n",
    "            temp = temp.apply(self.replace_puncs)\n",
    "        \n",
    "        # Third, remove numbers\n",
    "        if self.remove_numbers:\n",
    "            temp = temp.apply(self.replace_numbers)\n",
    "        \n",
    "        # lastly remove all noisy data\n",
    "        temp = temp.apply(self.remove_noise)\n",
    "        # lowercase\n",
    "        temp = temp.apply(self.lowercase)\n",
    "        result['emails'] = temp\n",
    "        return pd.DataFrame(result)\n",
    "            "
   ]
  },
  {
   "cell_type": "code",
   "execution_count": 113,
   "metadata": {},
   "outputs": [],
   "source": [
    "from sklearn.feature_extraction.text import CountVectorizer\n",
    "from sklearn.preprocessing import StandardScaler\n",
    "\n",
    "# preprocesses all data and returns a vectorize data\n",
    "def Preprocess_data(df,vectorizer,scaler,train=False):\n",
    "    email_prep = email_preprocessor() # initializing object\n",
    "    df['processed_emails'] = email_prep.fit_transform(df.emails) # proccessed emails\n",
    "    \n",
    "    # if train is true than fit vectorizer on training data\n",
    "    if train:\n",
    "        emails_vect = vectorizer.fit_transform(df.processed_emails.values).toarray()\n",
    "#         df['scaled_email_len']=scaler.fit_transform(df['email_length'].values.reshape(-1,1))\n",
    "    # else transform test data\n",
    "    else:\n",
    "        emails_vect = vectorizer.transform(df.processed_emails.values).toarray()\n",
    "#         df['scaled_email_len']=scaler.transform(df['email_length'].values.reshape(-1,1))\n",
    "\n",
    "    # appending scaled values of length  data to vectorized data\n",
    "#     final_data = np.hstack((emails_vect, np.atleast_2d(df.scaled_email_len.values).T))\n",
    "    \n",
    "    return emails_vect"
   ]
  },
  {
   "cell_type": "code",
   "execution_count": 114,
   "metadata": {},
   "outputs": [],
   "source": [
    "vectorizer = CountVectorizer()\n",
    "scaler = StandardScaler() # scaler\n",
    "# transforming training data \n",
    "X_train_prep = Preprocess_data(X_train,vectorizer=vectorizer,scaler=scaler,train=True)"
   ]
  },
  {
   "cell_type": "code",
   "execution_count": null,
   "metadata": {},
   "outputs": [],
   "source": []
  },
  {
   "cell_type": "code",
   "execution_count": 115,
   "metadata": {},
   "outputs": [
    {
     "data": {
      "text/plain": [
       "(2948, 35807)"
      ]
     },
     "execution_count": 115,
     "metadata": {},
     "output_type": "execute_result"
    }
   ],
   "source": [
    "X_train_prep.shape"
   ]
  },
  {
   "cell_type": "code",
   "execution_count": 116,
   "metadata": {},
   "outputs": [],
   "source": [
    "# transforming test data\n",
    "X_test_prep = Preprocess_data(X_test,vectorizer=vectorizer,scaler=scaler,train=False)"
   ]
  },
  {
   "cell_type": "code",
   "execution_count": 117,
   "metadata": {},
   "outputs": [
    {
     "data": {
      "text/plain": [
       "(738, 35807)"
      ]
     },
     "execution_count": 117,
     "metadata": {},
     "output_type": "execute_result"
    }
   ],
   "source": [
    "X_test_prep.shape"
   ]
  },
  {
   "cell_type": "code",
   "execution_count": 118,
   "metadata": {},
   "outputs": [],
   "source": [
    "# using softmax regression to classify this data\n",
    "from sklearn.linear_model import LogisticRegression\n",
    "\n",
    "# setting multi_class to mulinimial it makes logistic regressing  softmax regression\n",
    "log_reg = LogisticRegression(multi_class='multinomial') "
   ]
  },
  {
   "cell_type": "code",
   "execution_count": 119,
   "metadata": {},
   "outputs": [
    {
     "data": {
      "text/plain": [
       "LogisticRegression(multi_class='multinomial')"
      ]
     },
     "execution_count": 119,
     "metadata": {},
     "output_type": "execute_result"
    }
   ],
   "source": [
    "log_reg.fit(X_train_prep,y_train)"
   ]
  },
  {
   "cell_type": "code",
   "execution_count": 120,
   "metadata": {},
   "outputs": [
    {
     "data": {
      "text/plain": [
       "array([0, 1])"
      ]
     },
     "execution_count": 120,
     "metadata": {},
     "output_type": "execute_result"
    }
   ],
   "source": [
    "log_reg.classes_"
   ]
  },
  {
   "cell_type": "code",
   "execution_count": 121,
   "metadata": {},
   "outputs": [
    {
     "name": "stdout",
     "output_type": "stream",
     "text": [
      "Precision: 1.0 \n",
      " Recall: 1.0\n"
     ]
    }
   ],
   "source": [
    "from sklearn.metrics import precision_score,recall_score\n",
    "y_preds = log_reg.predict(X_test_prep)\n",
    "print(f'Precision: {precision_score(y_test,y_preds)} \\n Recall: {recall_score(y_test,y_preds)}')"
   ]
  },
  {
   "cell_type": "code",
   "execution_count": 122,
   "metadata": {},
   "outputs": [
    {
     "data": {
      "text/plain": [
       "array([[249,   0],\n",
       "       [  0, 489]])"
      ]
     },
     "execution_count": 122,
     "metadata": {},
     "output_type": "execute_result"
    }
   ],
   "source": [
    "from sklearn.metrics import confusion_matrix\n",
    "confusion_matrix(y_true=y_test,y_pred=y_preds)"
   ]
  },
  {
   "cell_type": "code",
   "execution_count": 123,
   "metadata": {},
   "outputs": [],
   "source": [
    "def predict_hamORspam(emails):\n",
    "    length = []\n",
    "    for m in emails:\n",
    "        length.append(len(m))\n",
    "        \n",
    "    data = pd.DataFrame(emails,columns=['emails'])\n",
    "    data['email_length'] = length\n",
    "    prc_data = Preprocess_data(data,vectorizer,scaler)\n",
    "    pred = log_reg.predict(prc_data)\n",
    "    return pred"
   ]
  },
  {
   "cell_type": "code",
   "execution_count": 124,
   "metadata": {},
   "outputs": [
    {
     "data": {
      "text/plain": [
       "array([0])"
      ]
     },
     "execution_count": 124,
     "metadata": {},
     "output_type": "execute_result"
    }
   ],
   "source": [
    "predict_hamORspam(['hell obuddy'])"
   ]
  },
  {
   "cell_type": "code",
   "execution_count": 125,
   "metadata": {},
   "outputs": [],
   "source": [
    "mail = '''Thank you for registering for your IELTS test with the British Council and accepting the IELTS Terms and Conditions and the IELTS Information for Candidates booklet (which includes the test malpractice and disqualification policies of IELTS which we strongly encourage test takers to read). We acknowledge receipt of your registration. No legally binding agreement will, however, be formed between you and us until we have sent you an order confirmation stating this. We shall send you an order confirmation once we have successfully received the relevant materials from you and processed your payment.\n",
    "A place is being held for you at the test location below and will only be confirmed once your payment has been successfully processed. We will let you know via email acknowledgements when your payment has been successfully processed. A separate email confirmation will be sent to you when your completed application has been accepted and you can sit the test and a legally binding agreement between you and us will have been formed.'''"
   ]
  },
  {
   "cell_type": "code",
   "execution_count": null,
   "metadata": {},
   "outputs": [],
   "source": []
  }
 ],
 "metadata": {
  "kernelspec": {
   "display_name": "Python 3",
   "language": "python",
   "name": "python3"
  },
  "language_info": {
   "codemirror_mode": {
    "name": "ipython",
    "version": 3
   },
   "file_extension": ".py",
   "mimetype": "text/x-python",
   "name": "python",
   "nbconvert_exporter": "python",
   "pygments_lexer": "ipython3",
   "version": "3.8.5"
  }
 },
 "nbformat": 4,
 "nbformat_minor": 4
}
